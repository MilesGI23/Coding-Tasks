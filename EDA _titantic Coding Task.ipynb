{
 "cells": [
  {
   "cell_type": "markdown",
   "metadata": {},
   "source": [
    "# Titanic Task\n",
    "\n",
    "Use the Titanic dataset provided to perform your analysis. Provide an in-depth and creative EDA on the dataset."
   ]
  },
  {
   "cell_type": "markdown",
   "metadata": {},
   "source": [
    "## Load the Dataset\n",
    "\n",
    "First, let's load the CSV file `Titanic.csv` and display the first 5 rows."
   ]
  },
  {
   "cell_type": "code",
   "execution_count": null,
   "metadata": {},
   "outputs": [],
   "source": [
    "import pandas as pd\n",
    "df = pd.read_csv(\"Titanic.csv\")\n",
    "df.head(5)"
   ]
  },
  {
   "cell_type": "markdown",
   "metadata": {},
   "source": [
    "## Data Overview\n",
    "\n",
    "Using the `.info()` function, we can check for non-null values and data types. At first glance, there are 7 numerical values and 5 object values (strings)."
   ]
  },
  {
   "cell_type": "code",
   "execution_count": null,
   "metadata": {},
   "outputs": [],
   "source": [
    "df.info()"
   ]
  },
  {
   "cell_type": "markdown",
   "metadata": {},
   "source": [
    "## Missing Values\n",
    "\n",
    "Now, let's check all columns for any missing values."
   ]
  },
  {
   "cell_type": "code",
   "execution_count": null,
   "metadata": {},
   "outputs": [],
   "source": [
    "df.isnull().sum()"
   ]
  },
  {
   "cell_type": "markdown",
   "metadata": {},
   "source": [
    "The columns `Age` (177 missing values), `Cabin` (687 missing values), and `Embarked` (2 missing values) have missing data. The `Age` category's missing values represent about 20% of the total 891 rows. We'll replace these with the mean value."
   ]
  },
  {
   "cell_type": "code",
   "execution_count": null,
   "metadata": {},
   "outputs": [],
   "source": [
    "df[\"Age\"].fillna(df[\"Age\"].mean(), inplace=True)\n",
    "df.isnull().sum()"
   ]
  },
  {
   "cell_type": "markdown",
   "metadata": {},
   "source": [
    "The `Embarked` column had 2 missing values, which have been replaced with 'U' (unknown). The `Cabin` column has many missing values, so we will drop it entirely from the dataset."
   ]
  },
  {
   "cell_type": "code",
   "execution_count": null,
   "metadata": {},
   "outputs": [],
   "source": [
    "df[\"Embarked\"].fillna(\"U\", inplace=True)\n",
    "df = df.drop([\"Cabin\", \"PassengerId\"], axis=1)"
   ]
  },
  {
   "cell_type": "markdown",
   "metadata": {},
   "source": [
    "Now that the dataset has no missing values, we can begin exploring it for patterns and relationships. Let's start by plotting the number of people who survived and those who did not."
   ]
  },
  {
   "cell_type": "code",
   "execution_count": null,
   "metadata": {},
   "outputs": [],
   "source": [
    "import seaborn as sns\n",
    "sns.set_style('whitegrid')\n",
    "sns.countplot(x='Survived', data=df, palette=['Red', 'Green'])"
   ]
  },
  {
   "cell_type": "markdown",
   "metadata": {},
   "source": [
    "The graph above shows the distribution of the number of people who died (red) and survived (green) among the 891 passengers."
   ]
  },
  {
   "cell_type": "markdown",
   "metadata": {},
   "source": [
    "## Gender and Survival\n",
    "\n",
    "Let's now analyze the survival rate based on gender."
   ]
  },
  {
   "cell_type": "code",
   "execution_count": null,
   "metadata": {},
   "outputs": [],
   "source": [
    "survived_df = df[df['Survived'] == 1]\n",
    "sns.countplot(x='Survived', hue='Sex', data=survived_df, palette=['Pink', 'Blue'])"
   ]
  },
  {
   "cell_type": "markdown",
   "metadata": {},
   "source": [
    "The graph indicates that more females survived compared to males. Next, let's examine the survival rate based on the number of parents and children (Parch) on board."
   ]
  },
  {
   "cell_type": "code",
   "execution_count": null,
   "metadata": {},
   "outputs": [],
   "source": [
    "df['Parch'].unique()"
   ]
  },
  {
   "cell_type": "markdown",
   "metadata": {},
   "source": [
    "From the data, we see that individuals with more than 3 parents/children didn't survive. It appears that women and children were not prioritized for lifeboats. Individuals with no parents or children had the highest survival rate compared to those with 1 or 2 children."
   ]
  },
  {
   "cell_type": "code",
   "execution_count": null,
   "metadata": {},
   "outputs": [],
   "source": [
    "ax = sns.countplot(x='Survived', hue='Parch', data=df)\n",
    "ax.set_xticklabels(['Not Survived', 'Survived'])\n",
    "ax.set_xlabel('Survived')\n",
    "ax.set_ylabel('Count')"
   ]
  },
  {
   "cell_type": "markdown",
   "metadata": {},
   "source": [
    "## Age Demographics by Class\n",
    "\n",
    "Let's plot the age distribution across different passenger classes."
   ]
  },
  {
   "cell_type": "code",
   "execution_count": null,
   "metadata": {},
   "outputs": [],
   "source": [
    "import matplotlib.pyplot as plt\n",
    "plt.figure(figsize=(12, 7))\n",
    "sns.boxplot(x='Pclass', y='Age', data=df, palette='winter')"
   ]
  },
  {
   "cell_type": "markdown",
   "metadata": {},
   "source": [
    "## Survival by Passenger Class\n",
    "\n",
    "First observations of the count plot show that more than 50% of 3rd class passengers died, while 1st class passengers had a higher survival rate."
   ]
  },
  {
   "cell_type": "code",
   "execution_count": null,
   "metadata": {},
   "outputs": [],
   "source": [
    "mp = sns.countplot(x='Pclass', hue='Survived', data=df, palette='winter')\n",
    "mp.set_title('Count of Survivors and Non-Survivors by Pclass')\n",
    "mp.set_xlabel('Pclass')\n",
    "mp.set_ylabel('Passenger Count')\n",
    "mp.set_xticklabels(['First Class', 'Second Class', 'Third Class'])"
   ]
  },
  {
   "cell_type": "markdown",
   "metadata": {},
   "source": [
    "## Passenger Counts by Class\n"
   ]
  },
  {
   "cell_type": "code",
   "execution_count": null,
   "metadata": {},
   "outputs": [],
   "source": [
    "total_pclass_1 = df[df['Pclass'] == 1].shape[0]\n",
    "print('The total number of passengers in 1st class is:', total_pclass_1)\n",
    "\n",
    "total_pclass_2 = df[df['Pclass'] == 2].shape[0]\n",
    "print('The total number of passengers in 2nd class is:', total_pclass_2)\n",
    "\n",
    "total_pclass_3 = df[df['Pclass'] == 3].shape[0]\n",
    "print('The total number of passengers in 3rd class is:', total_pclass_3)"
   ]
  },
  {
   "cell_type": "markdown",
   "metadata": {},
   "source": [
    "## Embarkation and Survival by Class\n",
    "\n",
    "Let's visualize the survival rate based on the embarkation point for each passenger class."
   ]
  },
  {
   "cell_type": "code",
   "execution_count": null,
   "metadata": {},
   "outputs": [],
   "source": [
    "ax = sns.catplot(x='Embarked', hue='Survived', kind='count', col='Pclass', data=df)\n",
    "ax.set_xticklabels(['Southampton', 'Cherbourg', 'Queenstown'])"
   ]
  },
  {
   "cell_type":
