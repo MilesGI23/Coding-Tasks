{
 "cells": [
  {
   "cell_type": "markdown",
   "metadata": {},
   "source": [
    "## Titanic Task \n",
    "\n",
    "Use the Titanic dataset provided to perform your analysis. Provide an indepth and creative EDA on the data set."
   ]
  },
  {
   "cell_type": "markdown",
   "metadata": {},
   "source": [
    "# I have load the CSV File \"Titanic.CSV\" and read in to Jupyter and requested to present the first 5 rows with all the comlumns. "
   ]
  },
  {
   "cell_type": "code",
   "execution_count": null,
   "metadata": {},
   "outputs": [],
   "source": [
    "df = pd.read_csv(\"Titanic.csv\") \n",
    "df.head(5)\n"
   ]
  },
  {
   "cell_type": "markdown",
   "metadata": {},
   "source": [
    "# Using the .info function i am checking all columns for any non-null values and checking the date types, at first glance, 7 numerical values\n",
    "# with 5 object values which will be in the form of a string"
   ]
  },
  {
   "cell_type": "code",
   "execution_count": null,
   "metadata": {},
   "outputs": [],
   "source": [
    "df.info()\n",
    " "
   ]
  },
  {
   "cell_type": "code",
   "execution_count": null,
   "metadata": {},
   "outputs": [],
   "source": [
    "df.isnull().sum()"
   ]
  },
  {
   "cell_type": "markdown",
   "metadata": {},
   "source": [
    "# Now Checking all columns if we have any empty rows within our columns, This highlights we have missing data from Age = \"177\" missing values \n",
    "#Cabin = \" 687\" missing Values and Embarked = \"2\" missing values. The age catorgrey having missing values of 177, will represent 20% of the missing \n",
    "#data from the total 891 rows. So will need to be replaced with the mean."
   ]
  },
  {
   "cell_type": "code",
   "execution_count": null,
   "metadata": {},
   "outputs": [],
   "source": [
    "df[\"Age\"].fillna(df[\"Age\"].mean(), inplace = True)\n",
    "df.isnull().sum()\n"
   ]
  },
  {
   "cell_type": "markdown",
   "metadata": {},
   "source": [
    "# The Embarked column also had 2 missing values, I have now replaced these values with \"u\" to represent unknown, as the amount missing from the data\n",
    "# set is minimal and the has catorgorical value should not affect an future plots. As cabin has alot of missing data \" 687\" values i am going to drop that column entirely \n",
    "# from the data set."
   ]
  },
  {
   "cell_type": "code",
   "execution_count": null,
   "metadata": {},
   "outputs": [],
   "source": [
    "df.Embarked.fillna(\"U\", inplace = True)\n"
   ]
  },
  {
   "cell_type": "code",
   "execution_count": null,
   "metadata": {},
   "outputs": [],
   "source": [
    "df = df.drop([\"Cabin\",\"PassengerId\",], axis=1)"
   ]
  },
  {
   "cell_type": "markdown",
   "metadata": {},
   "source": [
    "# The Data set now has no missing values so will now begin to explore the data set, for patterns relationships, i am going to start by plotting,\n",
    "# the amount of people who lived and died from the ship."
   ]
  },
  {
   "cell_type": "code",
   "execution_count": null,
   "metadata": {},
   "outputs": [],
   "source": [
    "df.isnull().sum()\n"
   ]
  },
  {
   "cell_type": "markdown",
   "metadata": {},
   "source": [
    "# The graph below show a visual representation of the distribution of the amount people that died and survied of the,\n",
    "# 891 passengers that were on board. Represented by red for the 500+ that died and green for the 300+ that survived. "
   ]
  },
  {
   "cell_type": "code",
   "execution_count": null,
   "metadata": {},
   "outputs": [],
   "source": [
    "sns.set_style('whitegrid')\n",
    "sns.countplot(x='Survived', data = df, palette=['Red','green'])\n"
   ]
  },
  {
   "cell_type": "markdown",
   "metadata": {},
   "source": []
  },
  {
   "cell_type": "markdown",
   "metadata": {},
   "source": [
    "# A plot of the genders of the guest on ship that survived.\n",
    "\n",
    "# The graph below indicates that More females, survived then males, from this lets see how many\n",
    "# parent and childern that were on boarded survived."
   ]
  },
  {
   "cell_type": "code",
   "execution_count": null,
   "metadata": {},
   "outputs": [],
   "source": [
    "\n",
    "survived_df = df[df['Survived'] == 1]\n",
    "sns.countplot(x='Survived',hue='Sex', data=survived_df, palette=['pink','blue'])\n"
   ]
  },
  {
   "cell_type": "code",
   "execution_count": null,
   "metadata": {},
   "outputs": [],
   "source": [
    "df['Parch'].unique().sum()"
   ]
  },
  {
   "cell_type": "markdown",
   "metadata": {},
   "source": [
    "# From the data we can identify that individuals with at least more than 3 parent/ children didn't survive and  women and childeren were probably\n",
    "# not first on the life boats. As you can clear see individuals with no parents or childeren have the highest count of survival rate,\n",
    "# compared to those who had 1 or 2 childeren."
   ]
  },
  {
   "cell_type": "code",
   "execution_count": null,
   "metadata": {},
   "outputs": [],
   "source": [
    "ax = sns.countplot(x='Survived', hue='Parch', data=df)\n",
    "ax.set_xticklabels(['Not Survived', 'Survived'])\n",
    "ax.set_xlabel('Survived')\n",
    "ax.set_ylabel('Count')\n",
    " "
   ]
  },
  {
   "cell_type": "markdown",
   "metadata": {},
   "source": [
    "# The graph below shows age demographic of the individuals in each class, in first clase 50% of individuals,\n",
    "# are aged between 29 and 47 years old. In second class we have a few outliers however they don't affect the representation \n",
    "# that 50% were aged between 23 - 45 With the upper quartile of 25% aged between 45 and 65 and the lower quartile 23 - 4. In 3rd \n",
    "# class thier is a few outliers that are affecting the box plot however 50% of them is aged between 20 - 30 years old."
   ]
  },
  {
   "cell_type": "code",
   "execution_count": null,
   "metadata": {},
   "outputs": [],
   "source": [
    "plt.figure(figsize=(12,7))\n",
    "sns.boxplot(x='Pclass', y = 'Age', data=df, palette='winter')\n"
   ]
  },
  {
   "cell_type": "markdown",
   "metadata": {},
   "source": [
    "# First observations of the Count plot the 3rd class passengers more than 50% of them died in the accident more than 350 individuals,\n",
    "# Individuals in second class have a Half of them survived half of them didn't so it was a 50 / 50 split, from this You can assume that \n",
    "# Second class passenger's didn't have much influence as compared to the 1st class passengers as more than 50% of individuals survived the \n",
    "# accident around 145 out of the 216 1st class passengers. In regards to the question \" In the movie, the upper-class passengers were given preference on\n",
    "# lifeboats. Does this show in the data?\" I would say yes the first and Second class had a much better chance of being on a life boat compared to the 1437 \n",
    "# souls that didn't."
   ]
  },
  {
   "cell_type": "code",
   "execution_count": null,
   "metadata": {},
   "outputs": [],
   "source": [
    "mp = sns.countplot(x='Pclass', hue='Survived', data=df, palette='winter')\n",
    "mp.set_title(\"Count of Survivors and Non-Survivors by Pclass\")\n",
    "mp.set_xlabel(\"Pclass\")\n",
    "mp.set_ylabel(\"Passenger Count\")\n",
    "mp.set_xticklabels(['First Class', 'Second Class ','Third Class'])\n"
   ]
  },
  {
   "cell_type": "code",
   "execution_count": null,
   "metadata": {},
   "outputs": [],
   "source": [
    "\n",
    "total_pclass_1 = df[df['Pclass'] == 1]['Pclass'].sum()\n",
    "print(\"The total number of passengers in 1st class is :\",total_pclass_1)\n",
    "\n",
    "total_pclass_2 = df[df['Pclass'] == 2]['Pclass'].sum()\n",
    "print(\"The total number of passengers in 2nd class is :\",total_pclass_2)\n",
    "\n",
    "total_pclass_3 = df[df['Pclass'] == 3]['Pclass'].sum()\n",
    "print(\"The total number of passengers in 3rd class is :\",total_pclass_3)"
   ]
  },
  {
   "cell_type": "code",
   "execution_count": null,
   "metadata": {},
   "outputs": [],
   "source": [
    "ax = sns.catplot(x ='Embarked', hue ='Survived', \n",
    "kind ='count', col ='Pclass', data = df )\n",
    "ax.set_xticklabels(['Southampton', 'Cherbourg','Queenstown'])"
   ]
  },
  {
   "cell_type": "markdown",
   "metadata": {},
   "source": [
    "# In conclusion the most determining factor in determining if you survivded the titantic incident would seem to be your class \n",
    "# as their is vast majority made it back, however if you was a women thier was also a high percentage that you, would have \n",
    "# survived also, it doesn't seem to matter if you had Childeren as the first class passenger's took priority over that. "
   ]
  },
  {
   "cell_type": "code",
   "execution_count": null,
   "metadata": {},
   "outputs": [],
   "source": []
  },
  {
   "cell_type": "code",
   "execution_count": null,
   "metadata": {},
   "outputs": [],
   "source": []
  },
  {
   "cell_type": "code",
   "execution_count": null,
   "metadata": {},
   "outputs": [],
   "source": []
  },
  {
   "cell_type": "code",
   "execution_count": null,
   "metadata": {},
   "outputs": [],
   "source": []
  },
  {
   "cell_type": "code",
   "execution_count": null,
   "metadata": {},
   "outputs": [],
   "source": []
  },
  {
   "cell_type": "code",
   "execution_count": null,
   "metadata": {},
   "outputs": [],
   "source": []
  },
  {
   "cell_type": "code",
   "execution_count": null,
   "metadata": {},
   "outputs": [],
   "source": []
  }
 ],
 "metadata": {
  "kernelspec": {
   "display_name": "Python 3",
   "language": "python",
   "name": "python3"
  },
  "language_info": {
   "codemirror_mode": {
    "name": "ipython",
    "version": 3
   },
   "file_extension": ".py",
   "mimetype": "text/x-python",
   "name": "python",
   "nbconvert_exporter": "python",
   "pygments_lexer": "ipython3",
   "version": "3.12.2"
  }
 },
 "nbformat": 4,
 "nbformat_minor": 2
}
